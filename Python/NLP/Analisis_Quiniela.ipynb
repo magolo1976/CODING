{
 "cells": [
  {
   "cell_type": "code",
   "execution_count": 1,
   "id": "74a7f9d1-4ccb-4c18-98cd-3822cf54c01a",
   "metadata": {},
   "outputs": [
    {
     "name": "stdout",
     "output_type": "stream",
     "text": [
      "Requirement already satisfied: tweepy in c:\\users\\deepgaming\\anaconda3\\envs\\llms\\lib\\site-packages (4.15.0)\n",
      "Requirement already satisfied: oauthlib<4,>=3.2.0 in c:\\users\\deepgaming\\anaconda3\\envs\\llms\\lib\\site-packages (from tweepy) (3.2.2)\n",
      "Requirement already satisfied: requests<3,>=2.27.0 in c:\\users\\deepgaming\\anaconda3\\envs\\llms\\lib\\site-packages (from tweepy) (2.32.3)\n",
      "Requirement already satisfied: requests-oauthlib<3,>=1.2.0 in c:\\users\\deepgaming\\anaconda3\\envs\\llms\\lib\\site-packages (from tweepy) (2.0.0)\n",
      "Requirement already satisfied: charset_normalizer<4,>=2 in c:\\users\\deepgaming\\anaconda3\\envs\\llms\\lib\\site-packages (from requests<3,>=2.27.0->tweepy) (3.4.1)\n",
      "Requirement already satisfied: idna<4,>=2.5 in c:\\users\\deepgaming\\anaconda3\\envs\\llms\\lib\\site-packages (from requests<3,>=2.27.0->tweepy) (3.10)\n",
      "Requirement already satisfied: urllib3<3,>=1.21.1 in c:\\users\\deepgaming\\anaconda3\\envs\\llms\\lib\\site-packages (from requests<3,>=2.27.0->tweepy) (2.3.0)\n",
      "Requirement already satisfied: certifi>=2017.4.17 in c:\\users\\deepgaming\\anaconda3\\envs\\llms\\lib\\site-packages (from requests<3,>=2.27.0->tweepy) (2024.12.14)\n",
      "Requirement already satisfied: textblob in c:\\users\\deepgaming\\anaconda3\\envs\\llms\\lib\\site-packages (0.19.0)\n",
      "Requirement already satisfied: nltk>=3.9 in c:\\users\\deepgaming\\anaconda3\\envs\\llms\\lib\\site-packages (from textblob) (3.9.1)\n",
      "Requirement already satisfied: click in c:\\users\\deepgaming\\anaconda3\\envs\\llms\\lib\\site-packages (from nltk>=3.9->textblob) (8.1.8)\n",
      "Requirement already satisfied: joblib in c:\\users\\deepgaming\\anaconda3\\envs\\llms\\lib\\site-packages (from nltk>=3.9->textblob) (1.4.2)\n",
      "Requirement already satisfied: regex>=2021.8.3 in c:\\users\\deepgaming\\anaconda3\\envs\\llms\\lib\\site-packages (from nltk>=3.9->textblob) (2024.11.6)\n",
      "Requirement already satisfied: tqdm in c:\\users\\deepgaming\\anaconda3\\envs\\llms\\lib\\site-packages (from nltk>=3.9->textblob) (4.67.1)\n",
      "Requirement already satisfied: colorama in c:\\users\\deepgaming\\anaconda3\\envs\\llms\\lib\\site-packages (from click->nltk>=3.9->textblob) (0.4.6)\n"
     ]
    }
   ],
   "source": [
    "#   Instalación de librerías\n",
    "!pip install tweepy\n",
    "!pip install textblob"
   ]
  },
  {
   "cell_type": "code",
   "execution_count": 2,
   "id": "c4ccd6c1-9cbb-4bc6-8146-96f47eae2033",
   "metadata": {},
   "outputs": [],
   "source": [
    "import tweepy\n",
    "import time\n",
    "import matplotlib.pyplot as plt\n",
    "from textblob import TextBlob"
   ]
  },
  {
   "cell_type": "code",
   "execution_count": 3,
   "id": "7bc1cf0c-1a6b-4c5b-820c-345a2c113c8f",
   "metadata": {},
   "outputs": [],
   "source": [
    "###  Definición de variables\n",
    "#consumer_key = \"****DYFh3A\"\n",
    "#consumer_secret = \"****DYFh3A\"\n",
    "\n",
    "#access_token = \"1882464041827786758-d3hDuLx3Bed9h7NzT2QBZen4njjSda\"\n",
    "#access_token_secret = \"LJ2M1EJQwrO1Br8xSy1iuogFHT9XXtjRece8cKngMZmT6\"\n",
    "\n",
    "# Claves de acceso\n",
    "BEARER_TOKEN = \"AAAAAAAAAAAAAAAAAAAAAEK3yQEAAAAAk1dXWsGpz4O%2FpcWGBzozFbQfUY4%3DgTzqNPG7ZLWj2f4nqMe9AIJVy0lR7rsZT4ls39Ci9XIkgcnuG7\""
   ]
  },
  {
   "cell_type": "code",
   "execution_count": 4,
   "id": "04d24f61-29d6-4705-b634-90048ca08134",
   "metadata": {},
   "outputs": [],
   "source": [
    "def buscar_tweets_relevantes(palabra, numero_tweets, lenguaje):\n",
    "    \"\"\"\n",
    "    Busca tweets públicos más relevantes que contengan una palabra clave,\n",
    "    con soporte para paginación y manejo del límite de la API.\n",
    "\n",
    "    Args:\n",
    "        palabra (str): Palabra clave para buscar.\n",
    "        numero_tweets (int): Número máximo de tweets a devolver.\n",
    "        lenguaje (str): Idioma de los tweets ('en' para inglés, 'es' para español, etc.).\n",
    "\n",
    "    Returns:\n",
    "        list: Lista de diccionarios con los textos de los tweets encontrados.\n",
    "    \"\"\"\n",
    "    try:\n",
    "        # Configurar el cliente de Twitter\n",
    "        client = tweepy.Client(bearer_token=BEARER_TOKEN)\n",
    "        \n",
    "        # Construir la consulta de búsqueda\n",
    "        query = f\"{palabra} lang:{lenguaje} -is:retweet\"  # Excluir retweets\n",
    "        \n",
    "        # Configuración inicial\n",
    "        tweets = []\n",
    "        max_results_per_request = 50  # Reducido para evitar problemas de límite\n",
    "        next_token = None\n",
    "\n",
    "        while len(tweets) < numero_tweets:\n",
    "            remaining_tweets = numero_tweets - len(tweets)\n",
    "            try:\n",
    "                # Realizar solicitud a la API\n",
    "                response = client.search_recent_tweets(\n",
    "                    query=query,\n",
    "                    max_results=min(max_results_per_request, remaining_tweets),\n",
    "                    tweet_fields=[\"text\", \"created_at\", \"author_id\"],\n",
    "                    sort_order=\"relevancy\",  # Ordenar por relevancia\n",
    "                    next_token=next_token\n",
    "                )\n",
    "                \n",
    "                # Si no hay más datos, salir del bucle\n",
    "                if not response.data:\n",
    "                    break\n",
    "                \n",
    "                # Agregar tweets a la lista\n",
    "                tweets.extend(response.data)\n",
    "                \n",
    "                # Obtener el token para la siguiente página\n",
    "                next_token = response.meta.get(\"next_token\")\n",
    "                if not next_token:\n",
    "                    break\n",
    "\n",
    "                # Pausar para evitar alcanzar el límite de la API\n",
    "                time.sleep(2)  # Esperar 2 segundos entre solicitudes\n",
    "\n",
    "            except tweepy.TooManyRequests:\n",
    "                print(\"Límite de solicitudes alcanzado. Esperando 15 minutos...\")\n",
    "                time.sleep(900)  # Esperar 15 minutos y reintentar\n",
    "        \n",
    "        # Formatear resultados (extraer texto)\n",
    "        resultados = [{\"texto\": tweet.text, \"autor_id\": tweet.author_id, \"fecha\": tweet.created_at} for tweet in tweets]\n",
    "        print(f\"Se encontraron {len(resultados)} tweets.\")\n",
    "        return resultados\n",
    "\n",
    "    except Exception as e:\n",
    "        print(f\"Error al buscar tweets: {e}\")\n",
    "        return []"
   ]
  },
  {
   "cell_type": "code",
   "execution_count": 5,
   "id": "3bd11b86-2a8e-407e-93c4-d0e31d2492cd",
   "metadata": {},
   "outputs": [],
   "source": [
    "def analizar_polaridad_tweets(tweets):\n",
    "    \"\"\"\n",
    "    Analiza la polaridad de los tweets utilizando TextBlob.\n",
    "\n",
    "    Args:\n",
    "        tweets (list): Lista de diccionarios con los textos de los tweets.\n",
    "\n",
    "    Returns:\n",
    "        tuple: Tres elementos:\n",
    "            - Lista con las polaridades de los tweets.\n",
    "            - Lista con los textos de los tweets analizados.\n",
    "            - Número total de tweets analizados.\n",
    "    \"\"\"\n",
    "    polaridades = []\n",
    "    textos = []\n",
    "\n",
    "    for tweet in tweets:\n",
    "        texto = tweet[\"texto\"]\n",
    "        analisis = TextBlob(texto)  # Analiza el texto del tweet\n",
    "        polaridad = analisis.sentiment.polarity  # Obtiene la polaridad (-1 a 1)\n",
    "        \n",
    "        polaridades.append(polaridad)\n",
    "        textos.append(texto)\n",
    "\n",
    "    total_tweets = len(textos)\n",
    "    return polaridades, textos, total_tweets"
   ]
  },
  {
   "cell_type": "code",
   "execution_count": 6,
   "id": "06feb998-f1a5-472f-ac1e-7442792aef91",
   "metadata": {},
   "outputs": [],
   "source": [
    "def graficar_polaridades(polaridades, textos):\n",
    "    \"\"\"\n",
    "    Genera un scatterplot de las polaridades de los tweets y muestra un cajetín con la polaridad promedio.\n",
    "\n",
    "    Args:\n",
    "        polaridades (list): Lista de valores de polaridad (-1 a 1).\n",
    "        textos (list): Lista de textos de los tweets (solo para referencia en el eje X).\n",
    "    \"\"\"\n",
    "    # Calcular la polaridad promedio\n",
    "    polaridad_promedio = sum(polaridades) / len(polaridades) if polaridades else 0\n",
    "    \n",
    "    # Crear el scatterplot\n",
    "    plt.figure(figsize=(10, 6))\n",
    "    plt.scatter(range(len(polaridades)), polaridades, color=\"blue\", alpha=0.7, label=\"Polaridad de Tweets\")\n",
    "    \n",
    "    # Etiquetas y título\n",
    "    plt.title(\"Análisis de Polaridad de Tweets\", fontsize=16)\n",
    "    plt.xlabel(\"Índice de Tweet\", fontsize=12)\n",
    "    plt.ylabel(\"Polaridad (-1 a 1)\", fontsize=12)\n",
    "    plt.axhline(y=0, color=\"gray\", linestyle=\"--\", linewidth=0.8, label=\"Neutral (0)\")\n",
    "    \n",
    "    # Cajetín con polaridad promedio\n",
    "    cajetin_texto = f\"Polaridad Promedio: {polaridad_promedio:.2f}\"\n",
    "    props = dict(boxstyle=\"round\", facecolor=\"lightyellow\", alpha=0.8)\n",
    "    plt.text(0.05, 0.95, cajetin_texto, transform=plt.gca().transAxes, fontsize=12,\n",
    "             verticalalignment=\"top\", bbox=props)\n",
    "    \n",
    "    # Leyenda y mostrar gráfico\n",
    "    plt.legend()\n",
    "    plt.tight_layout()\n",
    "    plt.show()"
   ]
  },
  {
   "cell_type": "code",
   "execution_count": null,
   "id": "9d09a883-c101-4de3-81bb-812c66e62ce8",
   "metadata": {},
   "outputs": [
    {
     "name": "stdout",
     "output_type": "stream",
     "text": [
      "Límite de solicitudes alcanzado. Esperando 15 minutos...\n"
     ]
    }
   ],
   "source": [
    "if __name__ == \"__main__\":\n",
    "    # Parámetros para buscar tweets\n",
    "    palabra_clave = \"IA\"\n",
    "    numero_tweets = 10000  # Reducido para evitar límites de API\n",
    "    idioma = \"es\"  # Idioma: 'es' (español), 'en' (inglés), etc.\n",
    "    \n",
    "    # Buscar tweets\n",
    "    resultados = buscar_tweets_relevantes(palabra_clave, numero_tweets, idioma)\n",
    "    \n",
    "    # Analizar polaridad de los tweets\n",
    "    polaridades, textos, total_tweets = analizar_polaridad_tweets(resultados)\n",
    "    \n",
    "    # Graficar polaridades\n",
    "    graficar_polaridades(polaridades, textos)"
   ]
  },
  {
   "cell_type": "code",
   "execution_count": null,
   "id": "4b6fa675-410d-419b-80ed-487b73fb0690",
   "metadata": {},
   "outputs": [],
   "source": []
  }
 ],
 "metadata": {
  "kernelspec": {
   "display_name": "Python 3 (ipykernel)",
   "language": "python",
   "name": "python3"
  },
  "language_info": {
   "codemirror_mode": {
    "name": "ipython",
    "version": 3
   },
   "file_extension": ".py",
   "mimetype": "text/x-python",
   "name": "python",
   "nbconvert_exporter": "python",
   "pygments_lexer": "ipython3",
   "version": "3.11.11"
  }
 },
 "nbformat": 4,
 "nbformat_minor": 5
}
