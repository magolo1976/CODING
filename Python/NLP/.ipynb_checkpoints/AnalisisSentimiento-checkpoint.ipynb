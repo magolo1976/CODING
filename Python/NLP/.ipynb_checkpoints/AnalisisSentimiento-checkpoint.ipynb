{
 "cells": [
  {
   "cell_type": "code",
   "execution_count": null,
   "id": "2a1bc5ec-4cbc-4d1d-8609-f1d16b23ae91",
   "metadata": {
    "scrolled": true
   },
   "outputs": [],
   "source": [
    "#   Instalación de librerías\n",
    "!pip install tweepy\n",
    "!pip install textblob"
   ]
  },
  {
   "cell_type": "code",
   "execution_count": null,
   "id": "408c63bd-4bfc-4958-ae5b-6359251e936f",
   "metadata": {},
   "outputs": [],
   "source": [
    "#   Importación de librerías\n",
    "from time import sleep\n",
    "from datetime import datetime\n",
    "from textblob import TextBlob\n",
    "import tweepy\n",
    "import matplotlib.pyplot as plt\n",
    "%matplotlib inline"
   ]
  },
  {
   "cell_type": "code",
   "execution_count": 34,
   "id": "ce05aa1e",
   "metadata": {},
   "outputs": [],
   "source": [
    "###  Definición de variables\n",
    "#consumer_key = \"****DYFh3A\"\n",
    "#consumer_secret = \"****DYFh3A\"\n",
    "\n",
    "#access_token = \"1882464041827786758-d3hDuLx3Bed9h7NzT2QBZen4njjSda\"\n",
    "#access_token_secret = \"LJ2M1EJQwrO1Br8xSy1iuogFHT9XXtjRece8cKngMZmT6\"\n",
    "\n",
    "# Claves de acceso\n",
    "BEARER_TOKEN = \"AAAAAAAAAAAAAAAAAAAAAEK3yQEAAAAAk1dXWsGpz4O%2FpcWGBzozFbQfUY4%3DgTzqNPG7ZLWj2f4nqMe9AIJVy0lR7rsZT4ls39Ci9XIkgcnuG7\"\n"
   ]
  },
  {
   "cell_type": "code",
   "execution_count": 35,
   "id": "231436cf-423a-4c5c-b097-d85e05c9f144",
   "metadata": {},
   "outputs": [],
   "source": [
    "# Función de autenticación\n",
    "def autenticar_en_twitter():\n",
    "    try:\n",
    "        # Configurar cliente de Twitter\n",
    "        client = tweepy.Client(bearer_token=BEARER_TOKEN)\n",
    "\n",
    "        # Probar la conexión\n",
    "        usuario = client.get_user(username=\"Magolo27\")  # username\n",
    "        print(f\"Autenticación exitosa. Usuario consultado: {usuario.data.name}\")\n",
    "        return client\n",
    "    except Exception as e:\n",
    "        print(\"Error al autenticar:\", e)\n",
    "        return None"
   ]
  },
  {
   "cell_type": "code",
   "execution_count": 36,
   "id": "eb7127ae-11fd-4b11-93a0-b529fb846a12",
   "metadata": {},
   "outputs": [
    {
     "name": "stdout",
     "output_type": "stream",
     "text": [
      "Autenticación exitosa. Usuario consultado: Magolo\n"
     ]
    },
    {
     "data": {
      "text/plain": [
       "<tweepy.client.Client at 0x29372a08a10>"
      ]
     },
     "execution_count": 36,
     "metadata": {},
     "output_type": "execute_result"
    }
   ],
   "source": [
    "# Autenticar\n",
    "cliente = autenticar_en_twitter()\n",
    "cliente"
   ]
  },
  {
   "cell_type": "markdown",
   "id": "26ce7007-a80c-4f86-a042-741c6b88e893",
   "metadata": {},
   "source": [
    "ANTES DEL ANALISIS, RECOPILACION DE DATOS"
   ]
  },
  {
   "cell_type": "code",
   "execution_count": 25,
   "id": "1140617d-c575-492a-9a23-894d61ecd48c",
   "metadata": {},
   "outputs": [
    {
     "name": "stdin",
     "output_type": "stream",
     "text": [
      "Buscar:  MALLORCA-BETIS\n"
     ]
    }
   ],
   "source": [
    "# Palabra a preguntar\n",
    "palabra = input(\"Buscar: \")"
   ]
  },
  {
   "cell_type": "code",
   "execution_count": 26,
   "id": "7a3f5ffc-3eaa-417c-bf05-5db24c3f11d9",
   "metadata": {},
   "outputs": [
    {
     "name": "stdin",
     "output_type": "stream",
     "text": [
      "Número de tweets:  5000\n"
     ]
    }
   ],
   "source": [
    "# Se define la cantidad de tweets\n",
    "num_tweets = int(input(u\"Número de tweets: \"))"
   ]
  },
  {
   "cell_type": "code",
   "execution_count": 27,
   "id": "d65cacae-6127-42cf-92e2-6038ee73ca8e",
   "metadata": {},
   "outputs": [
    {
     "name": "stdin",
     "output_type": "stream",
     "text": [
      "Idioma [es/en] es\n"
     ]
    }
   ],
   "source": [
    "# Se define el idioma\n",
    "lenguaje = input(\"Idioma [es/en]\")"
   ]
  },
  {
   "cell_type": "markdown",
   "id": "1d11e2b8-75da-4c5c-83e3-bd9cb36be691",
   "metadata": {},
   "source": [
    "ANALISIS DE SENTIMIENTO"
   ]
  },
  {
   "cell_type": "code",
   "execution_count": 39,
   "id": "d7549bef-20ac-4bc9-b3cf-01a49b8ee1ab",
   "metadata": {},
   "outputs": [],
   "source": [
    "def Buscar_tweets_relevantes(palabra, num_tweets, lenguaje):\n",
    "    \"\"\"\n",
    "    Busca tweets públicos más relevantes que contengan una palabra clave,\n",
    "    con soporte para paginación.\n",
    "\n",
    "    Args:\n",
    "        palabra (str): Palabra clave para buscar.\n",
    "        numero_tweets (int): Número máximo de tweets a devolver.\n",
    "        lenguaje (str): Idioma de los tweets ('en' para inglés, 'es' para español, etc.).\n",
    "\n",
    "    Returns:\n",
    "        list: Lista de textos de los tweets encontrados.\n",
    "    \"\"\"\n",
    "    try:\n",
    "        # Configurar el cliente de Twitter\n",
    "        cliente = tweepy.Client(bearer_token=BEARER_TOKEN)\n",
    "        \n",
    "        # Construir la consulta de búsqueda\n",
    "        query = f\"{palabra} lang:{lenguaje} -is:retweet\"  # Excluir retweets\n",
    "        \n",
    "        # Configuración inicial\n",
    "        tweets = []\n",
    "        max_results_per_request = 100  # Límite máximo por solicitud\n",
    "        next_token = None\n",
    "        \n",
    "        # Buscar tweets con paginación\n",
    "        while len(tweets) < numero_tweets:\n",
    "            remaining_tweets = numero_tweets - len(tweets)\n",
    "            response = cliente.search_recent_tweets(\n",
    "                query=query,\n",
    "                max_results=min(max_results_per_request, remaining_tweets),\n",
    "                tweet_fields=[\"text\", \"created_at\", \"author_id\"],\n",
    "                sort_order=\"relevancy\",  # Ordenar por relevancia\n",
    "                next_token=next_token\n",
    "            )\n",
    "            \n",
    "            # Si no hay más datos, salir del bucle\n",
    "            if not response.data:\n",
    "                break\n",
    "            \n",
    "            # Agregar tweets a la lista\n",
    "            tweets.extend(response.data)\n",
    "            \n",
    "            # Obtener el token para la siguiente página\n",
    "            next_token = response.meta.get(\"next_token\")\n",
    "            if not next_token:\n",
    "                break\n",
    "        \n",
    "        # Formatear resultados (extraer texto)\n",
    "        resultados = [{\"texto\": tweet.text, \"autor_id\": tweet.author_id, \"fecha\": tweet.created_at} for tweet in tweets]\n",
    "        print(f\"Se encontraron {len(resultados)} tweets.\")\n",
    "        return resultados\n",
    "    \n",
    "    except Exception as e:\n",
    "        print(f\"Error al buscar tweets: {e}\")\n",
    "        return []"
   ]
  },
  {
   "cell_type": "code",
   "execution_count": 29,
   "id": "131aea12-f486-44f6-b0f2-1fed3e72b4a0",
   "metadata": {},
   "outputs": [],
   "source": [
    "def Analizar_polaridad_tweets(tweets):\n",
    "    \"\"\"\n",
    "    Analiza la polaridad de los tweets utilizando TextBlob.\n",
    "\n",
    "    Args:\n",
    "        tweets (list): Lista de diccionarios con los textos de los tweets.\n",
    "\n",
    "    Returns:\n",
    "        tuple: Tres elementos:\n",
    "            - Lista con las polaridades de los tweets.\n",
    "            - Lista con los textos de los tweets analizados.\n",
    "            - Número total de tweets analizados.\n",
    "    \"\"\"\n",
    "    polaridades = []\n",
    "    textos = []\n",
    "\n",
    "    for tweet in tweets:\n",
    "        texto = tweet[\"texto\"]\n",
    "        analisis = TextBlob(texto)  # Analiza el texto del tweet\n",
    "        polaridad = analisis.sentiment.polarity  # Obtiene la polaridad (-1 a 1)\n",
    "        \n",
    "        polaridades.append(polaridad)\n",
    "        textos.append(texto)\n",
    "\n",
    "    total_tweets = len(textos)\n",
    "    return polaridades, textos, total_tweets"
   ]
  },
  {
   "cell_type": "code",
   "execution_count": 30,
   "id": "69aa1ee6-db6c-48b0-9e92-d154632a0ec8",
   "metadata": {},
   "outputs": [],
   "source": [
    "def graficar_polaridades(polaridades, textos):\n",
    "    \"\"\"\n",
    "    Genera un scatterplot de las polaridades de los tweets y muestra un cajetín con la polaridad promedio.\n",
    "\n",
    "    Args:\n",
    "        polaridades (list): Lista de valores de polaridad (-1 a 1).\n",
    "        textos (list): Lista de textos de los tweets (solo para referencia en el eje X).\n",
    "    \"\"\"\n",
    "    # Calcular la polaridad promedio\n",
    "    polaridad_promedio = sum(polaridades) / len(polaridades) if polaridades else 0\n",
    "    \n",
    "    # Crear el scatterplot\n",
    "    plt.figure(figsize=(10, 6))\n",
    "    plt.scatter(range(len(polaridades)), polaridades, color=\"blue\", alpha=0.7, label=\"Polaridad de Tweets\")\n",
    "    \n",
    "    # Etiquetas y título\n",
    "    plt.title(\"Análisis de Polaridad de Tweets\", fontsize=16)\n",
    "    plt.xlabel(\"Índice de Tweet\", fontsize=12)\n",
    "    plt.ylabel(\"Polaridad (-1 a 1)\", fontsize=12)\n",
    "    plt.axhline(y=0, color=\"gray\", linestyle=\"--\", linewidth=0.8, label=\"Neutral (0)\")\n",
    "    \n",
    "    # Cajetín con polaridad promedio\n",
    "    cajetin_texto = f\"Polaridad Promedio: {polaridad_promedio:.2f}\"\n",
    "    props = dict(boxstyle=\"round\", facecolor=\"lightyellow\", alpha=0.8)\n",
    "    plt.text(0.05, 0.95, cajetin_texto, transform=plt.gca().transAxes, fontsize=12,\n",
    "             verticalalignment=\"top\", bbox=props)\n",
    "    \n",
    "    # Leyenda y mostrar gráfico\n",
    "    plt.legend()\n",
    "    plt.tight_layout()\n",
    "    plt.show()"
   ]
  },
  {
   "cell_type": "code",
   "execution_count": 43,
   "id": "5ccec507-26eb-4b93-b941-6d4750d65528",
   "metadata": {},
   "outputs": [],
   "source": [
    "palabra_clave = \"MALLORCA-BETIS\"\n",
    "numero_tweets = 50  # Máximo número de tweets deseados\n",
    "idioma = \"es\" "
   ]
  },
  {
   "cell_type": "code",
   "execution_count": 44,
   "id": "433807dd-9109-4200-973a-a654f07f49b3",
   "metadata": {},
   "outputs": [
    {
     "name": "stdout",
     "output_type": "stream",
     "text": [
      "Error al buscar tweets: 429 Too Many Requests\n",
      "Too Many Requests\n"
     ]
    }
   ],
   "source": [
    "# Buscar tweets\n",
    "resultados = Buscar_tweets_relevantes(palabra_clave, numero_tweets, idioma) "
   ]
  },
  {
   "cell_type": "code",
   "execution_count": null,
   "id": "c97a3ba2-3429-43cb-b0ea-f11e6f0d24ab",
   "metadata": {},
   "outputs": [],
   "source": [
    "# Analizar polaridad de los tweets\n",
    "polaridades, textos, total_tweets = analizar_polaridad_tweets(resultados)"
   ]
  },
  {
   "cell_type": "code",
   "execution_count": null,
   "id": "ee85d19a-be68-4c78-95ae-4518aabb8fd8",
   "metadata": {},
   "outputs": [],
   "source": [
    "# Graficar polaridades\n",
    "graficar_polaridades(polaridades, textos)"
   ]
  }
 ],
 "metadata": {
  "kernelspec": {
   "display_name": "Python 3 (ipykernel)",
   "language": "python",
   "name": "python3"
  },
  "language_info": {
   "codemirror_mode": {
    "name": "ipython",
    "version": 3
   },
   "file_extension": ".py",
   "mimetype": "text/x-python",
   "name": "python",
   "nbconvert_exporter": "python",
   "pygments_lexer": "ipython3",
   "version": "3.11.11"
  }
 },
 "nbformat": 4,
 "nbformat_minor": 5
}
