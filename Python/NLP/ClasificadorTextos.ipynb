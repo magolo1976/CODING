{
 "cells": [
  {
   "cell_type": "markdown",
   "id": "c377ef44-26d0-4211-8bbb-7a51be5e41a3",
   "metadata": {},
   "source": [
    "\n",
    "##LIBRERIAS NECESARIAS\n"
   ]
  },
  {
   "cell_type": "code",
   "execution_count": 5,
   "id": "2e9fcf93-f5b0-4979-8bb3-66d58a06abb1",
   "metadata": {},
   "outputs": [
    {
     "name": "stdout",
     "output_type": "stream",
     "text": [
      "Requirement already satisfied: nltk in c:\\users\\deepgaming\\anaconda3\\envs\\llms\\lib\\site-packages (3.9.1)\n",
      "Requirement already satisfied: click in c:\\users\\deepgaming\\anaconda3\\envs\\llms\\lib\\site-packages (from nltk) (8.1.8)\n",
      "Requirement already satisfied: joblib in c:\\users\\deepgaming\\anaconda3\\envs\\llms\\lib\\site-packages (from nltk) (1.4.2)\n",
      "Requirement already satisfied: regex>=2021.8.3 in c:\\users\\deepgaming\\anaconda3\\envs\\llms\\lib\\site-packages (from nltk) (2024.11.6)\n",
      "Requirement already satisfied: tqdm in c:\\users\\deepgaming\\anaconda3\\envs\\llms\\lib\\site-packages (from nltk) (4.67.1)\n",
      "Requirement already satisfied: colorama in c:\\users\\deepgaming\\anaconda3\\envs\\llms\\lib\\site-packages (from click->nltk) (0.4.6)\n"
     ]
    }
   ],
   "source": [
    "!pip install nltk"
   ]
  },
  {
   "cell_type": "code",
   "execution_count": 7,
   "id": "fedc69c0-8564-4b59-b6d7-4e0b288b01bc",
   "metadata": {},
   "outputs": [
    {
     "name": "stdout",
     "output_type": "stream",
     "text": [
      "Requirement already satisfied: beautifulsoup4 in c:\\users\\deepgaming\\anaconda3\\envs\\llms\\lib\\site-packages (4.12.3)\n",
      "Requirement already satisfied: soupsieve>1.2 in c:\\users\\deepgaming\\anaconda3\\envs\\llms\\lib\\site-packages (from beautifulsoup4) (2.5)\n"
     ]
    }
   ],
   "source": [
    "!pip install beautifulsoup4"
   ]
  },
  {
   "cell_type": "code",
   "execution_count": 9,
   "id": "031239f7-b513-41ea-a077-1e13f2ed66db",
   "metadata": {},
   "outputs": [
    {
     "name": "stderr",
     "output_type": "stream",
     "text": [
      "ERROR: Could not find a version that satisfies the requirement urllib2 (from versions: none)\n",
      "ERROR: No matching distribution found for urllib2\n"
     ]
    }
   ],
   "source": [
    "!pip install urllib"
   ]
  },
  {
   "cell_type": "code",
   "execution_count": null,
   "id": "71772e86-5349-41e5-9d23-3bbf6d5bd50c",
   "metadata": {},
   "outputs": [],
   "source": [
    "from bs4 import BeautifulSoup\n",
    "import urllib."
   ]
  }
 ],
 "metadata": {
  "kernelspec": {
   "display_name": "Python 3 (ipykernel)",
   "language": "python",
   "name": "python3"
  },
  "language_info": {
   "codemirror_mode": {
    "name": "ipython",
    "version": 3
   },
   "file_extension": ".py",
   "mimetype": "text/x-python",
   "name": "python",
   "nbconvert_exporter": "python",
   "pygments_lexer": "ipython3",
   "version": "3.11.11"
  }
 },
 "nbformat": 4,
 "nbformat_minor": 5
}
