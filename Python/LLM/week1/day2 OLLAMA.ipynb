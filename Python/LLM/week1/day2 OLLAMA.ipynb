{
 "cells": [
  {
   "cell_type": "markdown",
   "id": "446a7de8-050a-4f89-b176-987f239f9a34",
   "metadata": {},
   "source": [
    "# OLLAMA"
   ]
  },
  {
   "cell_type": "markdown",
   "id": "8443e7c8-ce1a-42d3-868b-55e2c9ab228d",
   "metadata": {},
   "source": [
    "¡Simplemente visita [ollama.com](https://ollama.com) e instálalo!\n",
    "\n",
    "Una vez que hayas terminado, el servidor ollama ya debería estar ejecutándose localmente.\n",
    "Si entras en:\n",
    "[http://localhost:11434/](http://localhost:11434/)\n",
    "\n",
    "Debería ver el mensaje `Ollama se está ejecutando`.\n",
    "\n",
    "De lo contrario, abre una nueva Terminal (Mac) o Powershell (Windows) e introduce `ollama serve`.\n",
    "Luego, intenta entrar em [http://localhost:11434/](http://localhost:11434/) nuevamente."
   ]
  },
  {
   "cell_type": "code",
   "execution_count": 1,
   "id": "1a620524-ef08-4fc9-82fc-dc6ba5c692ca",
   "metadata": {},
   "outputs": [
    {
     "data": {
      "text/markdown": [
       "The dog of Saint Roch has no tail. \n",
       "\n",
       "However, this phrase is an example of a Spanish proverb or saying that might not translate literally into meaningful English. A more idiomatic translation would be:\n",
       "\n",
       "\"Every saint has his own devil,\" which means that every good thing can also have something bad associated with it, or everyone has their flaws. But note that the literal translation doesn't carry this meaning directly and is often used in Spanish as a rhyme rather than for its literal content."
      ],
      "text/plain": [
       "<IPython.core.display.Markdown object>"
      ]
     },
     "metadata": {},
     "output_type": "display_data"
    }
   ],
   "source": [
    "import requests\n",
    "from IPython.display import Markdown, display\n",
    "\n",
    "# -----------------------------------------------------  \n",
    "def display_summaryOLLAMA(question):\n",
    "    # ................\n",
    "    ## qwen2.5:32b\n",
    "    ## llama3.2\n",
    "    payload = {\n",
    "        \"model\": \"qwen2.5:32b\",\n",
    "        \"messages\": [ {\"role\": \"user\", \"content\": question} ],\n",
    "        \"stream\": False\n",
    "    }\n",
    "    # ................\n",
    "    OLLAMA_API = \"http://localhost:11434/api/chat\"\n",
    "    HEADERS = {\"Content-Type\": \"application/json\"}\n",
    "\n",
    "    response = requests.post(OLLAMA_API, json=payload, headers=HEADERS)\n",
    "    summary = response.json()['message']['content']\n",
    "    # ................\n",
    "    # Salida clara en Jupyter, usando markdown\n",
    "    display(Markdown(summary))\n",
    "\n",
    "# -----------------------------------------------------    \n",
    "dataContent = \"\"\"\n",
    "Translate to English: El perro de San Roque no tiene rabo.\n",
    "\"\"\"\n",
    "    \n",
    "display_summaryOLLAMA(dataContent)"
   ]
  },
  {
   "cell_type": "markdown",
   "id": "27517105-1dc4-418b-ae7b-e65410511124",
   "metadata": {},
   "source": [
    "# WEB SCRAPING"
   ]
  },
  {
   "cell_type": "code",
   "execution_count": 2,
   "id": "22f11fda-cb1a-40a2-a4a9-e287a5ecdd75",
   "metadata": {},
   "outputs": [
    {
     "data": {
      "text/markdown": [
       "# Resumen del Sitio Web Platzi: Cursos Online de Programación, AI, Data Science y Más\n",
       "\n",
       "Platzi es la escuela de tecnología líder en Latinoamérica, con más de 5 millones de estudiantes y miles de empresas que utilizan sus servicios. Ofrece una amplia variedad de cursos y programas educativos online enfocados en áreas como programación, inteligencia artificial, ciberseguridad, gestión empresarial, marketing digital, diseño gráfico y finanzas.\n",
       "\n",
       "## Características Principales\n",
       "- **Cursos Gratuitos:** Puedes empezar cualquier curso sin costo.\n",
       "- **Planes para Empresas:** Ofrece soluciones de formación personalizadas para empresas.\n",
       "- **Escuelas Especializadas:** Incluye programas detallados en áreas como Data Science, Ciberseguridad, Liderazgo y Management, Desarrollo Web, entre otras.\n",
       "- **Rutas Personalizadas:** Permite generar rutas de aprendizaje personalizadas para cada usuario.\n",
       "\n",
       "## Beneficios\n",
       "- Educación en línea escalable para América Latina.\n",
       "- Rutas profesionales que guían desde principiante hasta profesional.\n",
       "- Pruebas interactivas para medir progreso.\n",
       "- Soporte de inteligencia artificial y comunidad para resolver dudas.\n",
       "- Opción de descargar clases para aprender sin conexión a Internet.\n",
       "\n",
       "## Certificaciones\n",
       "Platzi ofrece certificaciones oficiales en colaboración con importantes instituciones, incluyendo:\n",
       "- Alianza con ETS para la certificación TOEFL en Inglés.\n",
       "- Convenios de certificación en tecnologías cloud.\n",
       "- Domina la seguridad digital con CompTIA security+.\n",
       "\n",
       "## Profesores\n",
       "Los cursos son impartidos por profesores expertos de la industria, como:\n",
       "- Carli Florida: Enseña Python.\n",
       "- Anibal Rojas: VP de Ingeniería y enseña sobre ChatGPT para Empresas.\n",
       "- Carolina Castañeda: Online Tech Teacher y enseña Bases de Datos con SQL.\n",
       "- Luis Martínez: Platform Engineer en Deel y enseña Django.\n",
       "\n",
       "Este sitio web es una plataforma integral para la educación en tecnologías modernas, adaptándose a las necesidades tanto de estudiantes individuales como de empresas."
      ],
      "text/plain": [
       "<IPython.core.display.Markdown object>"
      ]
     },
     "metadata": {},
     "output_type": "display_data"
    }
   ],
   "source": [
    "import requests\n",
    "from bs4 import BeautifulSoup\n",
    "# ----------------------------------------------------- \n",
    "\n",
    "class Website:\n",
    "    \"\"\"\n",
    "    Una clase de utilidad para representar un sitio web que hemos scrappeado\n",
    "    \"\"\"\n",
    "    def __init__(self, url):\n",
    "        \"\"\"\n",
    "        Crea este objeto de sitio web a partir de la URL indicada utilizando la biblioteca BeautifulSoup\n",
    "        \"\"\"\n",
    "        self.url = url\n",
    "        response = requests.get(url)\n",
    "        soup = BeautifulSoup(response.content, 'html.parser')\n",
    "        self.title = soup.title.string if soup.title else \"No tiene título\"\n",
    "        for irrelevant in soup.body([\"script\", \"style\", \"img\", \"input\"]):\n",
    "            irrelevant.decompose()\n",
    "        self.text = soup.body.get_text(separator=\"\\n\", strip=True)\n",
    "# ----------------------------------------------------- \n",
    "\n",
    "website = Website(\"https://platzi.com\")\n",
    "\n",
    "user_prompt = f\"Estás viendo un sitio web titulado {website.title}\"\n",
    "user_prompt += \"\\nEl contenido de este sitio web es el siguiente; \\\n",
    "proporciona un breve resumen de este sitio web en formato Markdown. \\\n",
    "Si incluye noticias, productos o anuncios, resúmelos también.\\n\\n\"\n",
    "user_prompt += website.text\n",
    "\n",
    "display_summaryOLLAMA(user_prompt)"
   ]
  },
  {
   "cell_type": "code",
   "execution_count": null,
   "id": "46fadc8d-5ac3-4dad-b5a1-f92e8890b640",
   "metadata": {},
   "outputs": [],
   "source": []
  }
 ],
 "metadata": {
  "kernelspec": {
   "display_name": "Python 3 (ipykernel)",
   "language": "python",
   "name": "python3"
  },
  "language_info": {
   "codemirror_mode": {
    "name": "ipython",
    "version": 3
   },
   "file_extension": ".py",
   "mimetype": "text/x-python",
   "name": "python",
   "nbconvert_exporter": "python",
   "pygments_lexer": "ipython3",
   "version": "3.11.11"
  }
 },
 "nbformat": 4,
 "nbformat_minor": 5
}
